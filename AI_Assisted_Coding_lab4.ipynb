{
  "nbformat": 4,
  "nbformat_minor": 0,
  "metadata": {
    "colab": {
      "provenance": []
    },
    "kernelspec": {
      "name": "python3",
      "display_name": "Python 3"
    },
    "language_info": {
      "name": "python"
    }
  },
  "cells": [
    {
      "cell_type": "code",
      "execution_count": null,
      "metadata": {
        "id": "7DR92i3_W-dI"
      },
      "outputs": [],
      "source": []
    },
    {
      "cell_type": "code",
      "metadata": {
        "colab": {
          "base_uri": "https://localhost:8080/"
        },
        "id": "ed1c3948",
        "outputId": "ac3e0ba9-de5f-4161-a7ee-a54953af3931"
      },
      "source": [
        "def fibonacci_sequence(n):\n",
        "    \"\"\"\n",
        "    Generates the Fibonacci sequence up to n terms.\n",
        "\n",
        "    Args:\n",
        "        n: The number of terms in the sequence.\n",
        "\n",
        "    Returns:\n",
        "        A list containing the Fibonacci sequence.\n",
        "    \"\"\"\n",
        "    if n <= 0:\n",
        "        return []\n",
        "    elif n == 1:\n",
        "        return [0]\n",
        "    else:\n",
        "        sequence = [0, 1]\n",
        "        while len(sequence) < n:\n",
        "            next_term = sequence[-1] + sequence[-2]\n",
        "            sequence.append(next_term)\n",
        "        return sequence\n",
        "\n",
        "# Example usage:\n",
        "n_terms = 10\n",
        "fib_sequence = fibonacci_sequence(n_terms)\n",
        "print(fib_sequence)"
      ],
      "execution_count": null,
      "outputs": [
        {
          "output_type": "stream",
          "name": "stdout",
          "text": [
            "[0, 1, 1, 2, 3, 5, 8, 13, 21, 34]\n"
          ]
        }
      ]
    },
    {
      "cell_type": "code",
      "source": [
        "def fahrenheit_to_celsius(fahrenheit):\n",
        "    \"\"\"\n",
        "    Converts temperature from Fahrenheit to Celsius.\n",
        "\n",
        "    Args:\n",
        "        fahrenheit: Temperature in Fahrenheit.\n",
        "\n",
        "    Returns:\n",
        "        Temperature in Celsius.\n",
        "    \"\"\"\n",
        "    celsius = (fahrenheit - 32) * 5/9\n",
        "    return celsius\n",
        "\n",
        "# Get Fahrenheit input from the user\n",
        "try:\n",
        "    fahrenheit_temp = float(input(\"Enter temperature in Fahrenheit: \"))\n",
        "    celsius_temp = fahrenheit_to_celsius(fahrenheit_temp)\n",
        "    print(f\"{fahrenheit_temp}°F is equal to {celsius_temp}°C\")\n",
        "except ValueError:\n",
        "    print(\"Invalid input. Please enter a number.\")"
      ],
      "metadata": {
        "colab": {
          "base_uri": "https://localhost:8080/"
        },
        "id": "tlSQiVf6hZlY",
        "outputId": "00ad77f7-5a98-4c27-e98d-c1ab69088d37"
      },
      "execution_count": null,
      "outputs": [
        {
          "output_type": "stream",
          "name": "stdout",
          "text": [
            "Enter temperature in Fahrenheit: 1000\n",
            "1000.0°F is equal to 537.7777777777778°C\n"
          ]
        }
      ]
    },
    {
      "cell_type": "code",
      "source": [],
      "metadata": {
        "id": "9gPk4TWaiP0B"
      },
      "execution_count": null,
      "outputs": []
    },
    {
      "cell_type": "code",
      "metadata": {
        "colab": {
          "base_uri": "https://localhost:8080/"
        },
        "id": "8665eb15-7e48-4f23-9087-3617c8983cfd",
        "outputId": "475ae7f1-44d2-4f65-c55a-533a500510de"
      },
      "source": [
        "def extract_domain(email):\n",
        "  \"\"\"\n",
        "  Extracts the domain name from an email address.\n",
        "\n",
        "  Args:\n",
        "    email: The email address string.\n",
        "\n",
        "  Returns:\n",
        "    The domain name string, or None if the email is invalid.\n",
        "  \"\"\"\n",
        "  if \"@\" in email:\n",
        "    return email.split(\"@\")[-1]\n",
        "  else:\n",
        "    return None\n",
        "\n",
        "# Get email input from the user\n",
        "email_address = input(\"Enter an email address: \")\n",
        "domain = extract_domain(email_address)\n",
        "\n",
        "if domain:\n",
        "  print(f\"The domain of {email_address} is: {domain}\")\n",
        "else:\n",
        "  print(f\"{email_address} is not a valid email address.\")"
      ],
      "execution_count": null,
      "outputs": [
        {
          "output_type": "stream",
          "name": "stdout",
          "text": [
            "Enter an email address: sharath@gmail.com\n",
            "The domain of sharath@gmail.com is: gmail.com\n"
          ]
        }
      ]
    },
    {
      "cell_type": "code",
      "source": [
        "import re\n",
        "\n",
        "def is_palindrome(word):\n",
        "    \"\"\"\n",
        "    Checks if a word is a palindrome, ignoring punctuation and case.\n",
        "\n",
        "    Args:\n",
        "        word: The word to check.\n",
        "\n",
        "    Returns:\n",
        "        True if the word is a palindrome, False otherwise.\n",
        "    \"\"\"\n",
        "    # Remove punctuation and convert to lowercase\n",
        "    cleaned_word = re.sub(r'[^\\w\\s]', '', word).lower()\n",
        "    # Remove spaces\n",
        "    cleaned_word = cleaned_word.replace(\" \", \"\")\n",
        "    return cleaned_word == cleaned_word[::-1]\n",
        "\n",
        "# Get input from the user\n",
        "user_input = input(\"Enter a word or phrase to check if it's a palindrome: \")\n",
        "\n",
        "if is_palindrome(user_input):\n",
        "    print(f\"'{user_input}' is a palindrome.\")\n",
        "else:\n",
        "    print(f\"'{user_input}' is not a palindrome.\")"
      ],
      "metadata": {
        "colab": {
          "base_uri": "https://localhost:8080/",
          "height": 356
        },
        "collapsed": true,
        "id": "QTFPbFUPld-E",
        "outputId": "7e7bb273-f912-4300-96ca-5592e752847c"
      },
      "execution_count": null,
      "outputs": [
        {
          "output_type": "error",
          "ename": "KeyboardInterrupt",
          "evalue": "Interrupted by user",
          "traceback": [
            "\u001b[0;31m---------------------------------------------------------------------------\u001b[0m",
            "\u001b[0;31mKeyboardInterrupt\u001b[0m                         Traceback (most recent call last)",
            "\u001b[0;32m/tmp/ipython-input-1880691700.py\u001b[0m in \u001b[0;36m<cell line: 0>\u001b[0;34m()\u001b[0m\n\u001b[1;32m     18\u001b[0m \u001b[0;34m\u001b[0m\u001b[0m\n\u001b[1;32m     19\u001b[0m \u001b[0;31m# Get input from the user\u001b[0m\u001b[0;34m\u001b[0m\u001b[0;34m\u001b[0m\u001b[0m\n\u001b[0;32m---> 20\u001b[0;31m \u001b[0muser_input\u001b[0m \u001b[0;34m=\u001b[0m \u001b[0minput\u001b[0m\u001b[0;34m(\u001b[0m\u001b[0;34m\"Enter a word or phrase to check if it's a palindrome: \"\u001b[0m\u001b[0;34m)\u001b[0m\u001b[0;34m\u001b[0m\u001b[0;34m\u001b[0m\u001b[0m\n\u001b[0m\u001b[1;32m     21\u001b[0m \u001b[0;34m\u001b[0m\u001b[0m\n\u001b[1;32m     22\u001b[0m \u001b[0;32mif\u001b[0m \u001b[0mis_palindrome\u001b[0m\u001b[0;34m(\u001b[0m\u001b[0muser_input\u001b[0m\u001b[0;34m)\u001b[0m\u001b[0;34m:\u001b[0m\u001b[0;34m\u001b[0m\u001b[0;34m\u001b[0m\u001b[0m\n",
            "\u001b[0;32m/usr/local/lib/python3.12/dist-packages/ipykernel/kernelbase.py\u001b[0m in \u001b[0;36mraw_input\u001b[0;34m(self, prompt)\u001b[0m\n\u001b[1;32m   1175\u001b[0m                 \u001b[0;34m\"raw_input was called, but this frontend does not support input requests.\"\u001b[0m\u001b[0;34m\u001b[0m\u001b[0;34m\u001b[0m\u001b[0m\n\u001b[1;32m   1176\u001b[0m             )\n\u001b[0;32m-> 1177\u001b[0;31m         return self._input_request(\n\u001b[0m\u001b[1;32m   1178\u001b[0m             \u001b[0mstr\u001b[0m\u001b[0;34m(\u001b[0m\u001b[0mprompt\u001b[0m\u001b[0;34m)\u001b[0m\u001b[0;34m,\u001b[0m\u001b[0;34m\u001b[0m\u001b[0;34m\u001b[0m\u001b[0m\n\u001b[1;32m   1179\u001b[0m             \u001b[0mself\u001b[0m\u001b[0;34m.\u001b[0m\u001b[0m_parent_ident\u001b[0m\u001b[0;34m[\u001b[0m\u001b[0;34m\"shell\"\u001b[0m\u001b[0;34m]\u001b[0m\u001b[0;34m,\u001b[0m\u001b[0;34m\u001b[0m\u001b[0;34m\u001b[0m\u001b[0m\n",
            "\u001b[0;32m/usr/local/lib/python3.12/dist-packages/ipykernel/kernelbase.py\u001b[0m in \u001b[0;36m_input_request\u001b[0;34m(self, prompt, ident, parent, password)\u001b[0m\n\u001b[1;32m   1217\u001b[0m             \u001b[0;32mexcept\u001b[0m \u001b[0mKeyboardInterrupt\u001b[0m\u001b[0;34m:\u001b[0m\u001b[0;34m\u001b[0m\u001b[0;34m\u001b[0m\u001b[0m\n\u001b[1;32m   1218\u001b[0m                 \u001b[0;31m# re-raise KeyboardInterrupt, to truncate traceback\u001b[0m\u001b[0;34m\u001b[0m\u001b[0;34m\u001b[0m\u001b[0m\n\u001b[0;32m-> 1219\u001b[0;31m                 \u001b[0;32mraise\u001b[0m \u001b[0mKeyboardInterrupt\u001b[0m\u001b[0;34m(\u001b[0m\u001b[0;34m\"Interrupted by user\"\u001b[0m\u001b[0;34m)\u001b[0m \u001b[0;32mfrom\u001b[0m \u001b[0;32mNone\u001b[0m\u001b[0;34m\u001b[0m\u001b[0;34m\u001b[0m\u001b[0m\n\u001b[0m\u001b[1;32m   1220\u001b[0m             \u001b[0;32mexcept\u001b[0m \u001b[0mException\u001b[0m\u001b[0;34m:\u001b[0m\u001b[0;34m\u001b[0m\u001b[0;34m\u001b[0m\u001b[0m\n\u001b[1;32m   1221\u001b[0m                 \u001b[0mself\u001b[0m\u001b[0;34m.\u001b[0m\u001b[0mlog\u001b[0m\u001b[0;34m.\u001b[0m\u001b[0mwarning\u001b[0m\u001b[0;34m(\u001b[0m\u001b[0;34m\"Invalid Message:\"\u001b[0m\u001b[0;34m,\u001b[0m \u001b[0mexc_info\u001b[0m\u001b[0;34m=\u001b[0m\u001b[0;32mTrue\u001b[0m\u001b[0;34m)\u001b[0m\u001b[0;34m\u001b[0m\u001b[0;34m\u001b[0m\u001b[0m\n",
            "\u001b[0;31mKeyboardInterrupt\u001b[0m: Interrupted by user"
          ]
        }
      ]
    },
    {
      "cell_type": "code",
      "source": [
        "def find_maximum(*numbers):\n",
        "    \"\"\"\n",
        "    Finds the maximum of any number of arguments.\n",
        "    \"\"\"\n",
        "    if not numbers:\n",
        "        return None\n",
        "\n",
        "    maximum = numbers[0]\n",
        "    for num in numbers[1:]:\n",
        "        if num > maximum:\n",
        "            maximum = num\n",
        "    return maximum\n",
        "\n",
        "# Get input from the user\n",
        "try:\n",
        "    numbers = []\n",
        "    count = int(input(\"How many numbers do you want to compare? \"))\n",
        "\n",
        "    for i in range(count):\n",
        "        num = float(input(f\"Enter number {i + 1}: \"))\n",
        "        numbers.append(num)\n",
        "\n",
        "    if numbers:\n",
        "        maximum_number = find_maximum(*numbers)\n",
        "        print(f\"The maximum of the numbers is: {maximum_number}\")\n",
        "    else:\n",
        "        print(\"No numbers were entered.\")\n",
        "\n",
        "except ValueError:\n",
        "    print(\"Invalid input. Please enter valid numbers.\")"
      ],
      "metadata": {
        "colab": {
          "base_uri": "https://localhost:8080/"
        },
        "id": "p-hEz3Isn7rC",
        "outputId": "936e9c48-6006-498c-bac8-e9b8469dd742"
      },
      "execution_count": 3,
      "outputs": [
        {
          "output_type": "stream",
          "name": "stdout",
          "text": [
            "How many numbers do you want to compare? 2\n",
            "Enter number 1: 12\n",
            "Enter number 2: 13\n",
            "The maximum of the numbers is: 13.0\n"
          ]
        }
      ]
    }
  ]
}