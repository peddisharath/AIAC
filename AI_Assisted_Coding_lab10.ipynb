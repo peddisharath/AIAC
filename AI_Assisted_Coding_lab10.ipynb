{
  "nbformat": 4,
  "nbformat_minor": 0,
  "metadata": {
    "colab": {
      "provenance": []
    },
    "kernelspec": {
      "name": "python3",
      "display_name": "Python 3"
    },
    "language_info": {
      "name": "python"
    }
  },
  "cells": [
    {
      "cell_type": "markdown",
      "source": [
        "**Task1**"
      ],
      "metadata": {
        "id": "LGn8mFMREvOW"
      }
    },
    {
      "cell_type": "code",
      "execution_count": null,
      "metadata": {
        "id": "aDmiZd7ymD9S",
        "colab": {
          "base_uri": "https://localhost:8080/"
        },
        "outputId": "63f03ff1-9850-467a-ddda-7ef828846093"
      },
      "outputs": [
        {
          "output_type": "stream",
          "name": "stdout",
          "text": [
            "the factorial of 5 is 120\n",
            "BIG Number\n"
          ]
        }
      ],
      "source": [
        "def calcFact(n):\n",
        "  result=1\n",
        "  x=0\n",
        "  for i in range(1, n+1): # Corrected range to include n and fixed indentation\n",
        "    result = result * i  # Corrected syntax and indentation\n",
        "  return result\n",
        "\n",
        "def main():\n",
        "  num = 5\n",
        "  FACT = calcFact(num)\n",
        "  print(\"the factorial of\", num, \"is\", FACT)\n",
        "  t = 10\n",
        "  if FACT > t: # Used variable t instead of literal 10\n",
        "    print(\"BIG Number\")\n",
        "  else:\n",
        "    print(\"small number\")\n",
        "\n",
        "main()"
      ]
    },
    {
      "cell_type": "markdown",
      "source": [
        "**Task2**"
      ],
      "metadata": {
        "id": "nVsYykDUE3a2"
      }
    },
    {
      "cell_type": "code",
      "source": [
        "# Function to calculate the Fibonacci series up to a given number\n",
        "def calculate_fibonacci(limit):\n",
        "  \"\"\"Calculates the Fibonacci series up to a given limit.\n",
        "\n",
        "  Args:\n",
        "    limit: The maximum value in the Fibonacci series.\n",
        "\n",
        "  Returns:\n",
        "    A list containing the Fibonacci series up to the limit.\n",
        "  \"\"\"\n",
        "  first_num = 0\n",
        "  second_num = 1\n",
        "  fibonacci_series = [first_num, second_num]\n",
        "  counter = 2\n",
        "\n",
        "  while counter <= limit:\n",
        "    next_num = first_num + second_num\n",
        "    fibonacci_series.append(next_num)\n",
        "    first_num = second_num\n",
        "    second_num = next_num\n",
        "    counter += 1\n",
        "\n",
        "  return fibonacci_series # Return the calculated series\n",
        "\n",
        "# Main function to demonstrate the Fibonacci calculation\n",
        "def main():\n",
        "  number_limit = 10\n",
        "  fibonacci_result = calculate_fibonacci(number_limit)\n",
        "  print(\"Fibonacci series till\", number_limit, \":\", fibonacci_result)\n",
        "\n",
        "main()"
      ],
      "metadata": {
        "colab": {
          "base_uri": "https://localhost:8080/"
        },
        "id": "ZvGvz26msb4e",
        "outputId": "4c704daf-0fe6-4f0a-dea3-09d31ed33862"
      },
      "execution_count": null,
      "outputs": [
        {
          "output_type": "stream",
          "name": "stdout",
          "text": [
            "Fibonacci series till 10 : [0, 1, 1, 2, 3, 5, 8, 13, 21, 34, 55]\n"
          ]
        }
      ]
    },
    {
      "cell_type": "markdown",
      "source": [
        "**Task3**"
      ],
      "metadata": {
        "id": "jk0c06JlFArp"
      }
    },
    {
      "cell_type": "code",
      "source": [
        "\"\"\"\n",
        "This module provides basic mathematical functions.\n",
        "\n",
        "It includes functions for addition and subtraction, with NumPy-style docstrings.\n",
        "\"\"\"\n",
        "\n",
        "import numpy as np\n",
        "\n",
        "def add_numbers(a, b):\n",
        "    \"\"\"\n",
        "    Adds two numbers.\n",
        "\n",
        "    Parameters\n",
        "    ----------\n",
        "    a : int or float\n",
        "        The first number.\n",
        "    b : int or float\n",
        "        The second number.\n",
        "\n",
        "    Returns\n",
        "    -------\n",
        "    int or float\n",
        "        The sum of the two numbers.\n",
        "\n",
        "    Examples\n",
        "    --------\n",
        "    >>> add_numbers(2, 3)\n",
        "    5\n",
        "    >>> add_numbers(1.5, 2.5)\n",
        "    4.0\n",
        "    \"\"\"\n",
        "    return a + b\n",
        "\n",
        "def subtract_numbers(a, b):\n",
        "    \"\"\"\n",
        "    Subtracts the second number from the first.\n",
        "\n",
        "    Parameters\n",
        "    ----------\n",
        "    a : int or float\n",
        "        The first number (minuend).\n",
        "    b : int or float\n",
        "        The second number (subtrahend).\n",
        "\n",
        "    Returns\n",
        "    -------\n",
        "    int or float\n",
        "        The difference between the two numbers.\n",
        "\n",
        "    Examples\n",
        "    --------\n",
        "    >>> subtract_numbers(5, 3)\n",
        "    2\n",
        "    >>> subtract_numbers(10.0, 2.5)\n",
        "    7.5\n",
        "    \"\"\"\n",
        "    return a - b\n",
        "\n",
        "# Example usage:\n",
        "if __name__ == \"__main__\":\n",
        "    num1 = 10\n",
        "    num2 = 5\n",
        "    sum_result = add_numbers(num1, num2)\n",
        "    difference_result = subtract_numbers(num1, num2)\n",
        "\n",
        "    print(f\"The sum of {num1} and {num2} is: {sum_result}\")\n",
        "    print(f\"The difference between {num1} and {num2} is: {difference_result}\")"
      ],
      "metadata": {
        "colab": {
          "base_uri": "https://localhost:8080/"
        },
        "id": "ESmZ6zwwvTf3",
        "outputId": "1cfa4df4-b645-4fab-8527-d9613efa8749"
      },
      "execution_count": null,
      "outputs": [
        {
          "output_type": "stream",
          "name": "stdout",
          "text": [
            "The sum of 10 and 5 is: 15\n",
            "The difference between 10 and 5 is: 5\n"
          ]
        }
      ]
    }
  ]
}